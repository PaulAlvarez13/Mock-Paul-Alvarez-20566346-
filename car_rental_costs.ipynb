{
  "nbformat": 4,
  "nbformat_minor": 0,
  "metadata": {
    "colab": {
      "name": "car_rental_costs.ipynb",
      "provenance": [],
      "include_colab_link": true
    },
    "kernelspec": {
      "name": "python3",
      "display_name": "Python 3"
    },
    "language_info": {
      "name": "python"
    }
  },
  "cells": [
    {
      "cell_type": "markdown",
      "metadata": {
        "id": "view-in-github",
        "colab_type": "text"
      },
      "source": [
        "<a href=\"https://colab.research.google.com/github/PaulAlvarez13/Mock-Paul-Alvarez-20566346-/blob/main/car_rental_costs.ipynb\" target=\"_parent\"><img src=\"https://colab.research.google.com/assets/colab-badge.svg\" alt=\"Open In Colab\"/></a>"
      ]
    },
    {
      "cell_type": "code",
      "execution_count": 5,
      "metadata": {
        "id": "vYEJMqCtMvXb",
        "outputId": "e8b5121e-428e-451e-95a4-c94c14f93a55",
        "colab": {
          "base_uri": "https://localhost:8080/"
        }
      },
      "outputs": [
        {
          "name": "stdout",
          "output_type": "stream",
          "text": [
            "Enter distance travelled: 6050\n",
            "Enter number of days: 7\n"
          ]
        }
      ],
      "source": [
        "\n",
        "\n",
        "def display_summary(num_k, num_days, total_cost):\n",
        " discount = get_discount(num_k, num_days)\n",
        " print(\"Distance:\", num_k, \"kilometres\")\n",
        " print(\"Days:\", num_days, \"days\")\n",
        " if discount > 0:\n",
        "  print(\"Discount: $\", discount, sep=\"\")\n",
        " print(\"Total: $\", total_cost, sep=\"\")\n",
        "\n",
        "\n",
        "distance_prompt = int(input('Enter distance travelled: '))\n",
        "days_prompt = int(input('Enter number of days: '))\n",
        "cost_per_k = 0.15\n",
        "cost_per_day = 20\n",
        "\n"
      ]
    },
    {
      "cell_type": "code",
      "source": [
        "def get_number(prompt):\n",
        " return int(input(prompt + \": \"))\n",
        "\n",
        "def get_cost(distance, days, cost_per_k, cost_per_day):\n",
        " discount = get_discount(distance, days)\n",
        " cost = distance * cost_per_k + days * cost_per_day - discount\n",
        " return round(cost)\n",
        "\n",
        "def get_discount(distance, days):\n",
        " if days > 10 or distance > 5000:\n",
        "  return 100\n",
        " return 0\n",
        "\n",
        "def display_summary(num_k, num_days, total_cost):\n",
        " discount = get_discount(num_k, num_days)\n",
        " print(\"Distance:\", num_k, \"kilometres\")\n",
        " print(\"Days:\", num_days, \"days\")\n",
        " if discount > 0:\n",
        "  print(\"Discount: $\", discount, sep=\"\")\n",
        " print(\"Total: $\", total_cost, sep=\"\")\n",
        "\n",
        "distance = int(input('Enter distance travelled: '))\n",
        "days = int(input('Enter number of days: '))\n",
        "cost_per_k = 0.15\n",
        "cost_per_day = 20"
      ],
      "metadata": {
        "id": "H7duNq51dQ9a",
        "outputId": "3697cec2-d5e4-4985-e52c-d6713220f153",
        "colab": {
          "base_uri": "https://localhost:8080/"
        }
      },
      "execution_count": 9,
      "outputs": [
        {
          "name": "stdout",
          "output_type": "stream",
          "text": [
            "Enter distance travelled: 6050\n",
            "Enter number of days: 7\n"
          ]
        }
      ]
    }
  ]
}