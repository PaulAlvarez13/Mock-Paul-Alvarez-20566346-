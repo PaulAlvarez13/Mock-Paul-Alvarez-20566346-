{
  "nbformat": 4,
  "nbformat_minor": 0,
  "metadata": {
    "colab": {
      "name": "gross_pay.ipynb",
      "provenance": [],
      "authorship_tag": "ABX9TyM3hKXq6d5YYbSIsLfFveHj",
      "include_colab_link": true
    },
    "kernelspec": {
      "name": "python3",
      "display_name": "Python 3"
    },
    "language_info": {
      "name": "python"
    }
  },
  "cells": [
    {
      "cell_type": "markdown",
      "metadata": {
        "id": "view-in-github",
        "colab_type": "text"
      },
      "source": [
        "<a href=\"https://colab.research.google.com/github/PaulAlvarez13/Mock-Paul-Alvarez-20566346-/blob/main/gross_pay.ipynb\" target=\"_parent\"><img src=\"https://colab.research.google.com/assets/colab-badge.svg\" alt=\"Open In Colab\"/></a>"
      ]
    },
    {
      "cell_type": "code",
      "source": [
        "## Input Hours Worked\n",
        "hours_worked = int(input('Enter your hours worked: '))\n",
        "## Input Hourly Pay Rate\n",
        "hourly_rate = int(input('Enter your hourly pay rate: '))\n",
        "\n",
        "# Calculate Gross Pay\n",
        "gross_pay = hours_worked * hourly_rate\n",
        "\n",
        "print('The total gross pay for the following employee is: ', gross_pay)"
      ],
      "metadata": {
        "colab": {
          "base_uri": "https://localhost:8080/"
        },
        "id": "stpIHqQVZCdX",
        "outputId": "2547e5d2-e790-492a-bd01-d7cebbb76da6"
      },
      "execution_count": 15,
      "outputs": [
        {
          "output_type": "stream",
          "name": "stdout",
          "text": [
            "Enter your hours worked: 10\n",
            "Enter your hourly pay rate: 21\n",
            "The total gross pay for the following employee is:  210\n"
          ]
        }
      ]
    }
  ]
}