{
  "nbformat": 4,
  "nbformat_minor": 0,
  "metadata": {
    "colab": {
      "name": "square_product_different.ipynb",
      "provenance": [],
      "authorship_tag": "ABX9TyNPF4MhSfG6ZLnEM1PUx67J",
      "include_colab_link": true
    },
    "kernelspec": {
      "name": "python3",
      "display_name": "Python 3"
    },
    "language_info": {
      "name": "python"
    }
  },
  "cells": [
    {
      "cell_type": "markdown",
      "metadata": {
        "id": "view-in-github",
        "colab_type": "text"
      },
      "source": [
        "<a href=\"https://colab.research.google.com/github/PaulAlvarez13/Mock-Paul-Alvarez-20566346-/blob/main/square_product_different.ipynb\" target=\"_parent\"><img src=\"https://colab.research.google.com/assets/colab-badge.svg\" alt=\"Open In Colab\"/></a>"
      ]
    },
    {
      "cell_type": "code",
      "execution_count": 1,
      "metadata": {
        "colab": {
          "base_uri": "https://localhost:8080/",
          "height": 133
        },
        "id": "PsuTU9fJkJGW",
        "outputId": "ae84e96b-885e-4126-9600-b4ff7d33f68b"
      },
      "outputs": [
        {
          "output_type": "error",
          "ename": "SyntaxError",
          "evalue": "ignored",
          "traceback": [
            "\u001b[0;36m  File \u001b[0;32m\"<ipython-input-1-667ce501aa6a>\"\u001b[0;36m, line \u001b[0;32m3\u001b[0m\n\u001b[0;31m    y = input(\"Enter value for y\")\u001b[0m\n\u001b[0m    ^\u001b[0m\n\u001b[0;31mSyntaxError\u001b[0m\u001b[0;31m:\u001b[0m invalid syntax\n"
          ]
        }
      ],
      "source": [
        "##Analysing the syntax errors\n",
        "x = int(input(\"Enter value for x\")) \n",
        "print(\"The square of x is\", x * x\n",
        "y = input(\"Enter value for y\") ##Line 3 in incorrect as int( is not established\n",
        "print(\"The product of x and y is\", x * y)\n",
        "if x > y ##Line 5 is incorrect as there is no colon':' at the end of the if statement\n",
        "print(\"The difference is\" x - y) ##Line 6 is incorrect as there is no comma between the string and the integer values\n",
        "else:\n",
        "print(\"The difference is\", x - y) "
      ]
    },
    {
      "cell_type": "code",
      "source": [
        "##Corrected the syntax errors from above\n",
        "x = int(input(\"Enter value for x: \"))\n",
        "print(\"The square of x is\", x * x)\n",
        "\n",
        "y = int(input(\"Enter value for y: \"))\n",
        "print(\"The product of x and y is\", x * y)\n",
        "\n",
        "if x > y:\n",
        "  print(\"The difference is\", x - y)\n",
        "else:\n",
        "  print(\"The difference is\", x - y) "
      ],
      "metadata": {
        "colab": {
          "base_uri": "https://localhost:8080/"
        },
        "id": "8S-JBSAZkaRk",
        "outputId": "56d1938a-694a-4e3c-fb24-9489a425b098"
      },
      "execution_count": 3,
      "outputs": [
        {
          "output_type": "stream",
          "name": "stdout",
          "text": [
            "Enter value for x: 10\n",
            "The square of x is 100\n",
            "Enter value for y: 15\n",
            "The product of x and y is 150\n",
            "The difference is -5\n"
          ]
        }
      ]
    }
  ]
}